{
 "cells": [
  {
   "cell_type": "markdown",
   "id": "f104e287-d5a4-45a4-89b8-3221830459fb",
   "metadata": {},
   "source": [
    "# Esto es un tes\n",
    "Lo que estoy buscando es poder ver si el docker esta andando correctamente"
   ]
  },
  {
   "cell_type": "code",
   "execution_count": 2,
   "id": "b765c089-2d66-4550-b584-9d264f229e7b",
   "metadata": {},
   "outputs": [],
   "source": [
    "import torch\n"
   ]
  },
  {
   "cell_type": "code",
   "execution_count": null,
   "id": "c91ca4b5-bdef-45a1-828d-7663bc5e5e3e",
   "metadata": {},
   "outputs": [],
   "source": []
  }
 ],
 "metadata": {
  "kernelspec": {
   "display_name": "Python 3 (ipykernel)",
   "language": "python",
   "name": "python3"
  },
  "language_info": {
   "codemirror_mode": {
    "name": "ipython",
    "version": 3
   },
   "file_extension": ".py",
   "mimetype": "text/x-python",
   "name": "python",
   "nbconvert_exporter": "python",
   "pygments_lexer": "ipython3",
   "version": "3.8.20"
  }
 },
 "nbformat": 4,
 "nbformat_minor": 5
}
